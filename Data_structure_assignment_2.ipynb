{
  "nbformat": 4,
  "nbformat_minor": 0,
  "metadata": {
    "colab": {
      "provenance": []
    },
    "kernelspec": {
      "name": "python3",
      "display_name": "Python 3"
    },
    "language_info": {
      "name": "python"
    }
  },
  "cells": [
    {
      "cell_type": "markdown",
      "source": [
        "#Data Types and Structures Practical Questions:"
      ],
      "metadata": {
        "id": "sq3I_UzFd2t1"
      }
    },
    {
      "cell_type": "code",
      "source": [
        " #1Write a code to create a string with your name and print it:\n",
        " name=\"Taha\"\n",
        " print(name)"
      ],
      "metadata": {
        "colab": {
          "base_uri": "https://localhost:8080/"
        },
        "id": "4ZC1wNloezOg",
        "outputId": "86308bf4-7c28-4c3a-f936-3b79c00dbbb0"
      },
      "execution_count": null,
      "outputs": [
        {
          "output_type": "stream",
          "name": "stdout",
          "text": [
            "Taha\n"
          ]
        }
      ]
    },
    {
      "cell_type": "code",
      "source": [
        "#2Write a code to find the length of the string \"Hello World\":\n",
        "string=\"Hello World\"\n",
        "print(len(string))"
      ],
      "metadata": {
        "colab": {
          "base_uri": "https://localhost:8080/"
        },
        "id": "fJzE4x2SftHe",
        "outputId": "9e21ff27-ac34-46f4-f0d5-f7dee6615a5f"
      },
      "execution_count": null,
      "outputs": [
        {
          "output_type": "stream",
          "name": "stdout",
          "text": [
            "11\n"
          ]
        }
      ]
    },
    {
      "cell_type": "code",
      "source": [
        "#3Write a code to slice the first 3 characters from the string \"Python Programming\"\n",
        "str1=\"Python Programming\"\n",
        "str1[:3]"
      ],
      "metadata": {
        "colab": {
          "base_uri": "https://localhost:8080/",
          "height": 35
        },
        "id": "JOUYXalHf9ZO",
        "outputId": "51fe6a63-b0f2-4d50-b999-39a3f1a0a5c3"
      },
      "execution_count": null,
      "outputs": [
        {
          "output_type": "execute_result",
          "data": {
            "text/plain": [
              "'Pyt'"
            ],
            "application/vnd.google.colaboratory.intrinsic+json": {
              "type": "string"
            }
          },
          "metadata": {},
          "execution_count": 9
        }
      ]
    },
    {
      "cell_type": "code",
      "source": [
        "#4Write a code to convert the string \"hello\" to uppercase\n",
        "str1=\"hello\"\n",
        "print(str1.upper())"
      ],
      "metadata": {
        "colab": {
          "base_uri": "https://localhost:8080/"
        },
        "id": "643nQhuqgWuT",
        "outputId": "40ae41bc-c784-48e3-ebb3-ee9ab3ed89f1"
      },
      "execution_count": null,
      "outputs": [
        {
          "output_type": "stream",
          "name": "stdout",
          "text": [
            "HELLO\n"
          ]
        }
      ]
    },
    {
      "cell_type": "code",
      "source": [
        "#5Write a code to replace the word \"apple\" with \"orange\" in the string \"I like apple\"?\n",
        "str1=\"I like apple\"\n",
        "str1.replace(\"apple\",\"orange\")"
      ],
      "metadata": {
        "colab": {
          "base_uri": "https://localhost:8080/",
          "height": 35
        },
        "id": "5WJAnVKygmnP",
        "outputId": "561bd5d4-52b8-443a-b06e-a82b1cf6740e"
      },
      "execution_count": null,
      "outputs": [
        {
          "output_type": "execute_result",
          "data": {
            "text/plain": [
              "'I like orange'"
            ],
            "application/vnd.google.colaboratory.intrinsic+json": {
              "type": "string"
            }
          },
          "metadata": {},
          "execution_count": 11
        }
      ]
    },
    {
      "cell_type": "code",
      "source": [
        "#6Write a code to create a list with numbers 1 to 5 and print it:\n",
        "numbers = list(range(1,6))\n",
        "print(numbers)\n"
      ],
      "metadata": {
        "colab": {
          "base_uri": "https://localhost:8080/"
        },
        "id": "p8NBEmcLg9p1",
        "outputId": "d35891e2-6a8b-478b-cc1d-3d53f1dbd08e"
      },
      "execution_count": null,
      "outputs": [
        {
          "output_type": "stream",
          "name": "stdout",
          "text": [
            "[1, 2, 3, 4, 5]\n"
          ]
        }
      ]
    },
    {
      "cell_type": "code",
      "source": [
        "#7Write a code to append the number 10 to the list [1, 2, 3, 4]\n",
        "list1=[1,2,3,4]\n",
        "list1.append(10)\n",
        "print(list1)\n"
      ],
      "metadata": {
        "colab": {
          "base_uri": "https://localhost:8080/"
        },
        "id": "gIcwpCK6hTId",
        "outputId": "3682a26e-10dd-4c85-ca8d-2ef3225a3297"
      },
      "execution_count": null,
      "outputs": [
        {
          "output_type": "stream",
          "name": "stdout",
          "text": [
            "[1, 2, 3, 4, 10]\n"
          ]
        }
      ]
    },
    {
      "cell_type": "code",
      "source": [
        "#8Write a code to remove the number 3 from the list [1, 2, 3, 4, 5]\n",
        "list1=[1,2,3,4,5]\n",
        "list1.remove(3)\n",
        "print(list1)"
      ],
      "metadata": {
        "colab": {
          "base_uri": "https://localhost:8080/"
        },
        "id": "NK5noS12h5B5",
        "outputId": "e94e48f4-f6d9-4ffb-ab90-8aeec72c2575"
      },
      "execution_count": null,
      "outputs": [
        {
          "output_type": "stream",
          "name": "stdout",
          "text": [
            "[1, 2, 4, 5]\n"
          ]
        }
      ]
    },
    {
      "cell_type": "code",
      "source": [
        "#9Write a code to access the second element in the list ['a', 'b', 'c', 'd']\n",
        "a=['a','b','c','d']\n",
        "a[1]"
      ],
      "metadata": {
        "colab": {
          "base_uri": "https://localhost:8080/",
          "height": 35
        },
        "id": "PKdTAOsTiJGO",
        "outputId": "dca6c46a-af12-4c94-c6e1-2cf235c40ac9"
      },
      "execution_count": null,
      "outputs": [
        {
          "output_type": "execute_result",
          "data": {
            "text/plain": [
              "'b'"
            ],
            "application/vnd.google.colaboratory.intrinsic+json": {
              "type": "string"
            }
          },
          "metadata": {},
          "execution_count": 24
        }
      ]
    },
    {
      "cell_type": "code",
      "source": [
        "#10Write a code to reverse the list [10, 20, 30, 40, 50].\n",
        "list1= [10, 20, 30, 40, 50]\n",
        "list1[::-1]"
      ],
      "metadata": {
        "colab": {
          "base_uri": "https://localhost:8080/"
        },
        "id": "417K56fGi6aK",
        "outputId": "af9e6b4f-cf29-4aaf-a79a-863b27f9e798"
      },
      "execution_count": null,
      "outputs": [
        {
          "output_type": "execute_result",
          "data": {
            "text/plain": [
              "[50, 40, 30, 20, 10]"
            ]
          },
          "metadata": {},
          "execution_count": 25
        }
      ]
    },
    {
      "cell_type": "code",
      "source": [
        "#11Write a code to create a tuple with the elements 100, 200, 300 and print it\n",
        "tup=(100, 200, 300)\n",
        "print(tup)"
      ],
      "metadata": {
        "colab": {
          "base_uri": "https://localhost:8080/"
        },
        "id": "wWASv8rdjJ2m",
        "outputId": "dffa6627-361a-491b-c678-b6b03a99c98a"
      },
      "execution_count": null,
      "outputs": [
        {
          "output_type": "stream",
          "name": "stdout",
          "text": [
            "(100, 200, 300)\n"
          ]
        }
      ]
    },
    {
      "cell_type": "code",
      "source": [
        "#12Write a code to access the second-to-last element of the tuple ('red', 'green', 'blue', 'yellow').\n",
        "tuple1= ('red', 'green', 'blue', 'yellow')\n",
        "tuple1[-2]"
      ],
      "metadata": {
        "colab": {
          "base_uri": "https://localhost:8080/",
          "height": 35
        },
        "id": "Pt-I_1aEjbml",
        "outputId": "5cbfd78b-7235-42ae-f2ed-043b5a20abb8"
      },
      "execution_count": null,
      "outputs": [
        {
          "output_type": "execute_result",
          "data": {
            "text/plain": [
              "'blue'"
            ],
            "application/vnd.google.colaboratory.intrinsic+json": {
              "type": "string"
            }
          },
          "metadata": {},
          "execution_count": 27
        }
      ]
    },
    {
      "cell_type": "code",
      "source": [
        "#13Write a code to find the minimum number in the tuple (10, 20, 5, 15).\n",
        "tuple1= (10, 20, 5, 15)\n",
        "min_tuple1=min(tuple1)\n",
        "print(min_tuple1)\n",
        "\n"
      ],
      "metadata": {
        "colab": {
          "base_uri": "https://localhost:8080/"
        },
        "id": "FEL47oJUj1HH",
        "outputId": "e069c2d6-5ebb-4516-b26d-3b8111f3d23e"
      },
      "execution_count": null,
      "outputs": [
        {
          "output_type": "stream",
          "name": "stdout",
          "text": [
            "5\n"
          ]
        }
      ]
    },
    {
      "cell_type": "code",
      "source": [
        "#14Write a code to find the index of the element \"cat\" in the tuple ('dog', 'cat', 'rabbit').\n",
        "tuple2=(\"dog\",\"cat\",\"rabbit\")\n",
        "tuple2.index(\"cat\")\n"
      ],
      "metadata": {
        "colab": {
          "base_uri": "https://localhost:8080/"
        },
        "id": "J46DS7rpkE3v",
        "outputId": "e89327c5-a553-4ecd-a467-55798dbd39a5"
      },
      "execution_count": null,
      "outputs": [
        {
          "output_type": "execute_result",
          "data": {
            "text/plain": [
              "1"
            ]
          },
          "metadata": {},
          "execution_count": 37
        }
      ]
    },
    {
      "cell_type": "code",
      "source": [
        "#15Write a code to create a tuple containing three different fruits and check if \"kiwi\" is in it.\n",
        "fruits=(\"apple\",\"banana\",\"cherry\",\"kiwi\")\n",
        "if \"kiwi\"in fruits:\n",
        " print(\"Yes,kiwi is in the fruits tuple\")"
      ],
      "metadata": {
        "colab": {
          "base_uri": "https://localhost:8080/"
        },
        "id": "3D5GIYObkXAe",
        "outputId": "82939b4d-b8eb-4cf8-b376-9085e7f2be49"
      },
      "execution_count": null,
      "outputs": [
        {
          "output_type": "stream",
          "name": "stdout",
          "text": [
            "Yes,kiwi is in the fruits tuple\n"
          ]
        }
      ]
    },
    {
      "cell_type": "code",
      "source": [
        "#16Write a code to create a set with the elements 'a', 'b', 'c' and print it.\n",
        "set1={\"a\",\"b\",\"c\"}\n",
        "print(set1)"
      ],
      "metadata": {
        "colab": {
          "base_uri": "https://localhost:8080/"
        },
        "id": "0y3lyOWMlTCH",
        "outputId": "115ae72a-a09e-4ffa-a1ea-a5fc7658c62e"
      },
      "execution_count": null,
      "outputs": [
        {
          "output_type": "stream",
          "name": "stdout",
          "text": [
            "{'a', 'b', 'c'}\n"
          ]
        }
      ]
    },
    {
      "cell_type": "code",
      "source": [
        "#17Write a code to clear all elements from the set {1, 2, 3, 4, 5}.\n",
        "set1={1,2,3,4,5}\n",
        "set1.clear()\n",
        "print(set1)\n"
      ],
      "metadata": {
        "colab": {
          "base_uri": "https://localhost:8080/"
        },
        "id": "m5qWh_sVle6f",
        "outputId": "b077569e-6e49-4f60-dd69-16f3dc6993a0"
      },
      "execution_count": null,
      "outputs": [
        {
          "output_type": "stream",
          "name": "stdout",
          "text": [
            "set()\n"
          ]
        }
      ]
    },
    {
      "cell_type": "code",
      "source": [
        "#18Write a code to remove the element 4 from the set {1, 2, 3, 4}.\n",
        "set2={1,2,3,4}\n",
        "set2.remove(4)\n",
        "print(set2)"
      ],
      "metadata": {
        "colab": {
          "base_uri": "https://localhost:8080/"
        },
        "id": "TrSXVzfOln8G",
        "outputId": "87d364ba-2f2b-498a-d187-3b6c5fff8df6"
      },
      "execution_count": null,
      "outputs": [
        {
          "output_type": "stream",
          "name": "stdout",
          "text": [
            "{1, 2, 3}\n"
          ]
        }
      ]
    },
    {
      "cell_type": "code",
      "source": [
        "#19Write a code to find the union of two sets {1, 2, 3} and {3, 4, 5}.\n",
        "set1={1,2,3}\n",
        "set2={3,4,5}\n",
        "set1.union(set2)"
      ],
      "metadata": {
        "colab": {
          "base_uri": "https://localhost:8080/"
        },
        "id": "qPwKpqzql86-",
        "outputId": "d6b52957-db8c-494a-a145-8b1cafd5d0e0"
      },
      "execution_count": null,
      "outputs": [
        {
          "output_type": "execute_result",
          "data": {
            "text/plain": [
              "{1, 2, 3, 4, 5}"
            ]
          },
          "metadata": {},
          "execution_count": 45
        }
      ]
    },
    {
      "cell_type": "code",
      "source": [
        "#20Write a code to find the intersection of two sets {1, 2, 3} and {2, 3, 4}.\n",
        "set1={1,2,3}\n",
        "set2={2,3,4}\n",
        "set1.intersection(set2)"
      ],
      "metadata": {
        "colab": {
          "base_uri": "https://localhost:8080/"
        },
        "id": "T3G_pjRKmLvm",
        "outputId": "586c35cb-cc66-4799-f5a3-cfde8991a7bb"
      },
      "execution_count": null,
      "outputs": [
        {
          "output_type": "execute_result",
          "data": {
            "text/plain": [
              "{2, 3}"
            ]
          },
          "metadata": {},
          "execution_count": 46
        }
      ]
    },
    {
      "cell_type": "code",
      "source": [
        "#21Write a code to create a dictionary with the keys \"name\", \"age\", and \"city\", and print it\n",
        "dict1={\"name\":\"Taha\",\"age\":23,\"city\":\"Srinagar\"}\n",
        "print(dict1)"
      ],
      "metadata": {
        "colab": {
          "base_uri": "https://localhost:8080/"
        },
        "id": "z3w7zXs0mZAk",
        "outputId": "44193069-5c4d-480c-9678-6164000aecf8"
      },
      "execution_count": null,
      "outputs": [
        {
          "output_type": "stream",
          "name": "stdout",
          "text": [
            "{'name': 'Taha', 'age': 23, 'city': 'Srinagar'}\n"
          ]
        }
      ]
    },
    {
      "cell_type": "code",
      "source": [
        "#22Write a code to add a new key-value pair \"country\": \"USA\" to the dictionary {'name': 'John', 'age': 25}.\n",
        "dict1= {'name': 'John', 'age': 25}\n",
        "dict1.update({'country':'USA'})\n",
        "print(dict1)"
      ],
      "metadata": {
        "colab": {
          "base_uri": "https://localhost:8080/"
        },
        "id": "ScdxxQZFmrt_",
        "outputId": "8d77b184-34be-4ef4-bde7-e338225cff2c"
      },
      "execution_count": null,
      "outputs": [
        {
          "output_type": "stream",
          "name": "stdout",
          "text": [
            "{'name': 'John', 'age': 25, 'country': 'USA'}\n"
          ]
        }
      ]
    },
    {
      "cell_type": "code",
      "source": [
        "#23Write a code to access the value associated with the key \"name\" in the dictionary {'name': 'Alice', 'age': 30}.\n",
        "dictionary= {'name': 'Alice', 'age': 30}\n",
        "dictionary.get(\"name\")"
      ],
      "metadata": {
        "colab": {
          "base_uri": "https://localhost:8080/",
          "height": 35
        },
        "id": "_exJXu7DnMFL",
        "outputId": "a4d84dc0-8865-43a3-f03e-58694ed92447"
      },
      "execution_count": null,
      "outputs": [
        {
          "output_type": "execute_result",
          "data": {
            "text/plain": [
              "'Alice'"
            ],
            "application/vnd.google.colaboratory.intrinsic+json": {
              "type": "string"
            }
          },
          "metadata": {},
          "execution_count": 53
        }
      ]
    },
    {
      "cell_type": "code",
      "source": [
        "#24Write a code to remove the key \"age\" from the dictionary {'name': 'Bob', 'age': 22, 'city': 'New York'}.\n",
        "dictionary={'name': 'Bob', 'age': 22, 'city': 'New York'}\n",
        "dictionary.pop(\"age\")\n",
        "print(dictionary)"
      ],
      "metadata": {
        "colab": {
          "base_uri": "https://localhost:8080/"
        },
        "id": "gj3kIdj7oSJq",
        "outputId": "05abf07b-3d06-4f45-cae6-dc5c584aa2ed"
      },
      "execution_count": null,
      "outputs": [
        {
          "output_type": "stream",
          "name": "stdout",
          "text": [
            "{'name': 'Bob', 'city': 'New York'}\n"
          ]
        }
      ]
    },
    {
      "cell_type": "code",
      "source": [
        "#25Write a code to check if the key \"city\" exists in the dictionary {'name': 'Alice', 'city': 'Paris'}\n",
        "dictionary ={'name': 'Alice', 'city': 'Paris'}\n",
        "if \"city\" in dictionary:\n",
        "  print(\"Yes,city exists in the dictionary\")"
      ],
      "metadata": {
        "colab": {
          "base_uri": "https://localhost:8080/"
        },
        "id": "4CM5G-QCogZc",
        "outputId": "77512622-91d2-4729-f543-23a13136b6ac"
      },
      "execution_count": null,
      "outputs": [
        {
          "output_type": "stream",
          "name": "stdout",
          "text": [
            "Yes,city exists in the dictionary\n"
          ]
        }
      ]
    },
    {
      "cell_type": "code",
      "source": [
        "#26 Write a code to create a list, a tuple, and a dictionary, and print them all.\n",
        "list1=[1,2,3,4,True,30.9,\"taha\"]\n",
        "tuple1=(1,2,False,0.9,3,4)\n",
        "dictionary={\"name\":\"Taha\",\"age\":23,\"city\":\"Srinagar\"}\n",
        "print(list1)\n",
        "print(tuple1)\n",
        "print(dictionary)"
      ],
      "metadata": {
        "colab": {
          "base_uri": "https://localhost:8080/"
        },
        "id": "tHKA85CGo1ue",
        "outputId": "6bd9b002-5209-4e40-8314-fac077ef040a"
      },
      "execution_count": null,
      "outputs": [
        {
          "output_type": "stream",
          "name": "stdout",
          "text": [
            "[1, 2, 3, 4, True, 30.9, 'taha']\n",
            "(1, 2, False, 0.9, 3, 4)\n",
            "{'name': 'Taha', 'age': 23, 'city': 'Srinagar'}\n"
          ]
        }
      ]
    },
    {
      "cell_type": "code",
      "source": [
        "#27Write a code to create a list of 5 random numbers between 1 and 100, sort it in ascending order, and print the result.(replaced)\n",
        "import random\n",
        "list1=[]\n",
        "for i in range(5):\n",
        "  list1.append(random.randint(1,100))\n",
        "list1.sort()\n",
        "print(list1)\n"
      ],
      "metadata": {
        "colab": {
          "base_uri": "https://localhost:8080/"
        },
        "id": "WB3GRp_vpRP_",
        "outputId": "afd04dd9-3bd9-486b-e64d-29b8646e9c06"
      },
      "execution_count": null,
      "outputs": [
        {
          "output_type": "stream",
          "name": "stdout",
          "text": [
            "[6, 39, 92, 92, 100]\n"
          ]
        }
      ]
    },
    {
      "cell_type": "code",
      "source": [
        "#28Write a code to create a list with strings and print the element at the third index\n",
        "list1=[\"apple\",\"banana\",\"cherry\",\"kiwi\"]\n",
        "list1[2]"
      ],
      "metadata": {
        "colab": {
          "base_uri": "https://localhost:8080/",
          "height": 35
        },
        "id": "QVmIwX_Epr_A",
        "outputId": "27de0a2b-e330-492c-e538-cdb10be70c53"
      },
      "execution_count": null,
      "outputs": [
        {
          "output_type": "execute_result",
          "data": {
            "text/plain": [
              "'cherry'"
            ],
            "application/vnd.google.colaboratory.intrinsic+json": {
              "type": "string"
            }
          },
          "metadata": {},
          "execution_count": 59
        }
      ]
    },
    {
      "cell_type": "code",
      "source": [
        "#29Write a code to combine two dictionaries into one and print the result.\n",
        "dict1={\"name\":\"taha\",\"age\":23,\"city\":\"srinagar\"}\n",
        "dict2={\"sister\":\"umi\",\"rollnum\":27,\"location\":\"jammu\"}\n",
        "dict1.update(dict2)\n",
        "print(dict1)"
      ],
      "metadata": {
        "colab": {
          "base_uri": "https://localhost:8080/"
        },
        "id": "_VMHPWWkpz1a",
        "outputId": "a16b3790-8e71-41aa-95e3-75a66007d9ab"
      },
      "execution_count": null,
      "outputs": [
        {
          "output_type": "stream",
          "name": "stdout",
          "text": [
            "{'name': 'taha', 'age': 23, 'city': 'srinagar', 'sister': 'umi', 'rollnum': 27, 'location': 'jammu'}\n"
          ]
        }
      ]
    },
    {
      "cell_type": "code",
      "source": [
        "#30Write a code to convert a list of strings into a set.\n",
        "list1=[1,2,3,4,1,2,3]\n",
        "list1=set(list1)\n",
        "print(list1)"
      ],
      "metadata": {
        "colab": {
          "base_uri": "https://localhost:8080/"
        },
        "id": "73LTDrjbqKKB",
        "outputId": "050eac6a-efd6-4134-ee33-1c4db58506fc"
      },
      "execution_count": null,
      "outputs": [
        {
          "output_type": "stream",
          "name": "stdout",
          "text": [
            "{1, 2, 3, 4}\n"
          ]
        }
      ]
    },
    {
      "cell_type": "code",
      "source": [],
      "metadata": {
        "id": "YMYYiuoQq-Ae"
      },
      "execution_count": null,
      "outputs": []
    }
  ]
}